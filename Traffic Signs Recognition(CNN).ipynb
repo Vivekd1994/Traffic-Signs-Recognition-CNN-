{
 "cells": [
  {
   "cell_type": "code",
   "execution_count": 1,
   "metadata": {},
   "outputs": [],
   "source": [
    "import numpy as np \n",
    "import pandas as pd \n",
    "import matplotlib.pyplot as plt\n",
    "import tensorflow as tf\n",
    "from PIL import Image\n",
    "import os\n",
    "from skimage.io import imread_collection\n",
    "from sklearn.model_selection import train_test_split\n",
    "from keras.utils import to_categorical\n",
    "from keras.models import Sequential, load_model\n",
    "from keras.layers import Conv2D, MaxPool2D, Dense, Flatten, Dropout\n"
   ]
  },
  {
   "cell_type": "code",
   "execution_count": 2,
   "metadata": {},
   "outputs": [],
   "source": [
    "train = pd.read_csv(r\"C:\\Users\\Vivek\\Desktop\\5 project\\CNN\\Train.csv\")"
   ]
  },
  {
   "cell_type": "code",
   "execution_count": 3,
   "metadata": {},
   "outputs": [],
   "source": [
    "data = []\n",
    "labels = []\n",
    "classes = 43\n",
    "cur_path = os.getcwd()"
   ]
  },
  {
   "cell_type": "code",
   "execution_count": 4,
   "metadata": {},
   "outputs": [],
   "source": [
    "os.chdir('C:/Users/Vivek/Desktop/5 project/CNN/')\n"
   ]
  },
  {
   "cell_type": "code",
   "execution_count": 5,
   "metadata": {},
   "outputs": [],
   "source": [
    "#Retrieving the images and their labels \n",
    "for i in range(classes):\n",
    "    path = os.path.join(cur_path,'train',str(i))\n",
    "    images = os.listdir(path)\n",
    "\n",
    "    for a in images:\n",
    "        try:\n",
    "            image = Image.open(path + '\\\\'+ a)\n",
    "            image = image.resize((30,30))\n",
    "            image = np.array(image)\n",
    "            #sim = Image.fromarray(image)\n",
    "            data.append(image)\n",
    "            labels.append(i)\n",
    "        except:\n",
    "            print(\"Error loading image\")\n",
    "\n",
    "#Converting lists into numpy arrays\n",
    "data = np.array(data)\n",
    "labels = np.array(labels)\n"
   ]
  },
  {
   "cell_type": "code",
   "execution_count": 6,
   "metadata": {},
   "outputs": [
    {
     "name": "stdout",
     "output_type": "stream",
     "text": [
      "(39209, 30, 30, 3) (39209,)\n"
     ]
    }
   ],
   "source": [
    "print(data.shape, labels.shape)"
   ]
  },
  {
   "cell_type": "code",
   "execution_count": 8,
   "metadata": {},
   "outputs": [
    {
     "data": {
      "text/plain": [
       "array([[[[ 75,  78,  80],\n",
       "         [ 74,  76,  78],\n",
       "         [ 85,  86,  84],\n",
       "         ...,\n",
       "         [ 68,  75,  74],\n",
       "         [ 65,  69,  68],\n",
       "         [ 66,  67,  66]],\n",
       "\n",
       "        [[ 83,  84,  86],\n",
       "         [ 80,  80,  82],\n",
       "         [ 88,  88,  83],\n",
       "         ...,\n",
       "         [ 73,  77,  78],\n",
       "         [ 76,  78,  75],\n",
       "         [ 80,  80,  78]],\n",
       "\n",
       "        [[ 78,  78,  80],\n",
       "         [ 86,  85,  86],\n",
       "         [ 90,  89,  90],\n",
       "         ...,\n",
       "         [ 71,  74,  71],\n",
       "         [ 73,  74,  69],\n",
       "         [ 78,  78,  74]],\n",
       "\n",
       "        ...,\n",
       "\n",
       "        [[133, 134, 139],\n",
       "         [123, 127, 132],\n",
       "         [112, 121, 125],\n",
       "         ...,\n",
       "         [ 94,  95,  89],\n",
       "         [ 97,  98,  91],\n",
       "         [ 99, 103,  99]],\n",
       "\n",
       "        [[ 91,  95,  99],\n",
       "         [ 91,  98, 103],\n",
       "         [ 75,  86,  90],\n",
       "         ...,\n",
       "         [104, 102,  96],\n",
       "         [110, 113, 104],\n",
       "         [ 96, 104,  98]],\n",
       "\n",
       "        [[ 85,  84,  87],\n",
       "         [ 95, 101, 107],\n",
       "         [ 63,  76,  81],\n",
       "         ...,\n",
       "         [103, 103,  95],\n",
       "         [ 99, 102,  90],\n",
       "         [ 90,  97,  89]]],\n",
       "\n",
       "\n",
       "       [[[ 69,  73,  73],\n",
       "         [ 76,  79,  79],\n",
       "         [ 75,  77,  77],\n",
       "         ...,\n",
       "         [ 76,  81,  80],\n",
       "         [ 71,  77,  77],\n",
       "         [ 66,  68,  70]],\n",
       "\n",
       "        [[ 65,  69,  69],\n",
       "         [ 74,  76,  76],\n",
       "         [ 84,  84,  83],\n",
       "         ...,\n",
       "         [ 90,  83,  89],\n",
       "         [ 74,  79,  84],\n",
       "         [ 67,  69,  73]],\n",
       "\n",
       "        [[ 63,  68,  68],\n",
       "         [ 71,  72,  72],\n",
       "         [ 81,  79,  77],\n",
       "         ...,\n",
       "         [105,  86,  91],\n",
       "         [ 71,  75,  76],\n",
       "         [ 69,  71,  69]],\n",
       "\n",
       "        ...,\n",
       "\n",
       "        [[164, 139, 142],\n",
       "         [157, 139, 144],\n",
       "         [151, 139, 143],\n",
       "         ...,\n",
       "         [ 76,  77,  79],\n",
       "         [ 77,  80,  76],\n",
       "         [ 90,  93,  82]],\n",
       "\n",
       "        [[102, 103, 104],\n",
       "         [103, 102, 104],\n",
       "         [101,  97, 103],\n",
       "         ...,\n",
       "         [ 80,  81,  82],\n",
       "         [ 92,  95,  91],\n",
       "         [106, 110, 101]],\n",
       "\n",
       "        [[ 72,  74,  74],\n",
       "         [ 82,  83,  82],\n",
       "         [ 92,  92,  99],\n",
       "         ...,\n",
       "         [ 74,  74,  75],\n",
       "         [103, 103, 100],\n",
       "         [101, 104,  96]]],\n",
       "\n",
       "\n",
       "       [[[ 72,  72,  72],\n",
       "         [ 79,  79,  79],\n",
       "         [ 78,  78,  73],\n",
       "         ...,\n",
       "         [ 78,  81,  71],\n",
       "         [ 72,  79,  73],\n",
       "         [ 63,  66,  64]],\n",
       "\n",
       "        [[ 66,  68,  68],\n",
       "         [ 77,  75,  74],\n",
       "         [ 94,  87,  86],\n",
       "         ...,\n",
       "         [108,  93,  87],\n",
       "         [ 77,  80,  77],\n",
       "         [ 74,  75,  74]],\n",
       "\n",
       "        [[ 65,  69,  69],\n",
       "         [ 76,  71,  71],\n",
       "         [112,  98, 101],\n",
       "         ...,\n",
       "         [120,  87,  91],\n",
       "         [ 74,  74,  74],\n",
       "         [ 69,  69,  67]],\n",
       "\n",
       "        ...,\n",
       "\n",
       "        [[146, 133, 117],\n",
       "         [143, 130, 114],\n",
       "         [140, 127, 119],\n",
       "         ...,\n",
       "         [ 75,  76,  75],\n",
       "         [ 72,  75,  75],\n",
       "         [ 73,  76,  77]],\n",
       "\n",
       "        [[114, 121, 113],\n",
       "         [115, 116, 107],\n",
       "         [115, 111, 107],\n",
       "         ...,\n",
       "         [ 71,  73,  73],\n",
       "         [ 79,  81,  80],\n",
       "         [ 92,  94,  92]],\n",
       "\n",
       "        [[ 73,  78,  77],\n",
       "         [ 84,  87,  84],\n",
       "         [ 95,  96,  95],\n",
       "         ...,\n",
       "         [ 70,  71,  71],\n",
       "         [ 81,  82,  79],\n",
       "         [ 95,  97,  91]]],\n",
       "\n",
       "\n",
       "       ...,\n",
       "\n",
       "\n",
       "       [[[ 11,  11,  13],\n",
       "         [ 12,  12,  14],\n",
       "         [ 13,  11,  13],\n",
       "         ...,\n",
       "         [ 12,  11,  13],\n",
       "         [ 12,  11,  13],\n",
       "         [ 12,  10,  13]],\n",
       "\n",
       "        [[ 11,  11,  14],\n",
       "         [ 13,  11,  14],\n",
       "         [ 12,  11,  13],\n",
       "         ...,\n",
       "         [ 12,  11,  13],\n",
       "         [ 12,  12,  13],\n",
       "         [ 12,  11,  12]],\n",
       "\n",
       "        [[  9,  10,  13],\n",
       "         [ 12,  12,  16],\n",
       "         [ 14,  15,  17],\n",
       "         ...,\n",
       "         [ 11,  11,  13],\n",
       "         [ 11,  11,  13],\n",
       "         [ 11,  11,  11]],\n",
       "\n",
       "        ...,\n",
       "\n",
       "        [[ 10,  10,  12],\n",
       "         [ 10,   9,  11],\n",
       "         [  9,   9,  11],\n",
       "         ...,\n",
       "         [ 10,   9,  12],\n",
       "         [ 11,  10,  12],\n",
       "         [ 11,  11,  12]],\n",
       "\n",
       "        [[ 10,   9,  12],\n",
       "         [ 10,   9,  11],\n",
       "         [ 10,   9,  11],\n",
       "         ...,\n",
       "         [ 11,   9,  12],\n",
       "         [ 10,  11,  13],\n",
       "         [ 12,  11,  12]],\n",
       "\n",
       "        [[ 10,   9,  12],\n",
       "         [ 11,  10,  12],\n",
       "         [ 10,   9,  11],\n",
       "         ...,\n",
       "         [ 11,  10,  11],\n",
       "         [ 11,  11,  13],\n",
       "         [ 12,  11,  13]]],\n",
       "\n",
       "\n",
       "       [[[ 13,  13,  15],\n",
       "         [ 14,  13,  16],\n",
       "         [ 13,  11,  13],\n",
       "         ...,\n",
       "         [ 12,  11,  12],\n",
       "         [ 11,  10,  11],\n",
       "         [ 11,  13,  19]],\n",
       "\n",
       "        [[ 14,  12,  14],\n",
       "         [ 13,  12,  14],\n",
       "         [ 14,  12,  14],\n",
       "         ...,\n",
       "         [ 11,  11,  13],\n",
       "         [ 11,  10,  12],\n",
       "         [ 10,  11,  14]],\n",
       "\n",
       "        [[ 12,  11,  12],\n",
       "         [ 13,  12,  13],\n",
       "         [ 13,  12,  14],\n",
       "         ...,\n",
       "         [ 11,  10,  12],\n",
       "         [ 11,  10,  12],\n",
       "         [ 10,   9,  11]],\n",
       "\n",
       "        ...,\n",
       "\n",
       "        [[ 12,  12,  13],\n",
       "         [ 11,  10,  11],\n",
       "         [  9,   9,  11],\n",
       "         ...,\n",
       "         [ 13,  12,  13],\n",
       "         [ 11,   9,  11],\n",
       "         [  9,   9,  10]],\n",
       "\n",
       "        [[ 11,  10,  12],\n",
       "         [ 12,  10,  12],\n",
       "         [ 10,   9,  11],\n",
       "         ...,\n",
       "         [ 14,  13,  15],\n",
       "         [ 11,  10,  10],\n",
       "         [ 10,   9,   9]],\n",
       "\n",
       "        [[ 10,   9,  11],\n",
       "         [ 10,   9,  11],\n",
       "         [ 10,  10,  12],\n",
       "         ...,\n",
       "         [ 14,  12,  14],\n",
       "         [ 11,  10,  11],\n",
       "         [ 10,   9,  10]]],\n",
       "\n",
       "\n",
       "       [[[ 11,  10,  12],\n",
       "         [ 11,  10,  11],\n",
       "         [ 10,  10,  11],\n",
       "         ...,\n",
       "         [ 18,  20,  22],\n",
       "         [ 25,  24,  23],\n",
       "         [ 24,  17,  17]],\n",
       "\n",
       "        [[ 12,  11,  12],\n",
       "         [ 12,  11,  12],\n",
       "         [ 12,  10,  12],\n",
       "         ...,\n",
       "         [ 45,  60,  77],\n",
       "         [ 80,  77,  83],\n",
       "         [ 51,  30,  27]],\n",
       "\n",
       "        [[ 12,  12,  13],\n",
       "         [ 12,  12,  14],\n",
       "         [ 12,  11,  12],\n",
       "         ...,\n",
       "         [ 69,  87, 109],\n",
       "         [ 89,  84, 103],\n",
       "         [ 51,  38,  44]],\n",
       "\n",
       "        ...,\n",
       "\n",
       "        [[ 12,  11,  14],\n",
       "         [ 13,  11,  12],\n",
       "         [ 10,   9,  10],\n",
       "         ...,\n",
       "         [ 10,   9,  11],\n",
       "         [ 10,   9,  11],\n",
       "         [  9,   9,  11]],\n",
       "\n",
       "        [[ 11,  11,  13],\n",
       "         [ 11,  10,  12],\n",
       "         [  9,   9,  10],\n",
       "         ...,\n",
       "         [ 10,   9,  11],\n",
       "         [  9,   9,  11],\n",
       "         [ 10,   9,  11]],\n",
       "\n",
       "        [[ 11,  11,  12],\n",
       "         [ 10,  10,  11],\n",
       "         [  9,   9,  10],\n",
       "         ...,\n",
       "         [ 10,   9,  12],\n",
       "         [ 10,  10,  11],\n",
       "         [ 10,   9,  11]]]], dtype=uint8)"
      ]
     },
     "execution_count": 8,
     "metadata": {},
     "output_type": "execute_result"
    }
   ],
   "source": [
    "data"
   ]
  },
  {
   "cell_type": "markdown",
   "metadata": {},
   "source": [
    "# Splitting training and testing dataset"
   ]
  },
  {
   "cell_type": "code",
   "execution_count": 9,
   "metadata": {},
   "outputs": [
    {
     "name": "stdout",
     "output_type": "stream",
     "text": [
      "(31367, 30, 30, 3) (7842, 30, 30, 3) (31367,) (7842,)\n"
     ]
    }
   ],
   "source": [
    "X_train, X_test, y_train, y_test = train_test_split(data, labels, test_size=0.2, random_state=42)\n",
    "\n",
    "print(X_train.shape, X_test.shape, y_train.shape, y_test.shape)\n"
   ]
  },
  {
   "cell_type": "markdown",
   "metadata": {},
   "source": [
    "# Converting the labels into one hot encoding"
   ]
  },
  {
   "cell_type": "code",
   "execution_count": 10,
   "metadata": {},
   "outputs": [],
   "source": [
    "y_train = to_categorical(y_train, 43)\n",
    "y_test = to_categorical(y_test, 43)"
   ]
  },
  {
   "cell_type": "markdown",
   "metadata": {},
   "source": [
    "# Building the model"
   ]
  },
  {
   "cell_type": "code",
   "execution_count": 11,
   "metadata": {},
   "outputs": [],
   "source": [
    "model = Sequential()\n",
    "model.add(Conv2D(filters=32, kernel_size=(5,5), activation='relu', input_shape=X_train.shape[1:]))\n",
    "model.add(Conv2D(filters=32, kernel_size=(5,5), activation='relu'))\n",
    "model.add(MaxPool2D(pool_size=(2, 2)))\n",
    "model.add(Dropout(rate=0.25))\n",
    "model.add(Conv2D(filters=64, kernel_size=(3, 3), activation='relu'))\n",
    "model.add(Conv2D(filters=64, kernel_size=(3, 3), activation='relu'))\n",
    "model.add(MaxPool2D(pool_size=(2, 2)))\n",
    "model.add(Dropout(rate=0.25))\n",
    "model.add(Flatten())\n",
    "model.add(Dense(256, activation='relu'))\n",
    "model.add(Dropout(rate=0.5))\n",
    "model.add(Dense(43, activation='softmax'))"
   ]
  },
  {
   "cell_type": "code",
   "execution_count": 12,
   "metadata": {},
   "outputs": [],
   "source": [
    "model.compile(loss='categorical_crossentropy', optimizer='adam', metrics=['accuracy'])"
   ]
  },
  {
   "cell_type": "code",
   "execution_count": 13,
   "metadata": {},
   "outputs": [
    {
     "name": "stdout",
     "output_type": "stream",
     "text": [
      "Epoch 1/15\n",
      "981/981 [==============================] - 147s 145ms/step - loss: 3.4078 - accuracy: 0.3356 - val_loss: 0.6496 - val_accuracy: 0.8452\n",
      "Epoch 2/15\n",
      "981/981 [==============================] - 131s 133ms/step - loss: 0.8867 - accuracy: 0.7462 - val_loss: 0.2336 - val_accuracy: 0.9458\n",
      "Epoch 3/15\n",
      "981/981 [==============================] - 129s 132ms/step - loss: 0.5744 - accuracy: 0.8329 - val_loss: 0.1473 - val_accuracy: 0.9638\n",
      "Epoch 4/15\n",
      "981/981 [==============================] - 143s 146ms/step - loss: 0.4168 - accuracy: 0.8794 - val_loss: 0.1393 - val_accuracy: 0.9602\n",
      "Epoch 5/15\n",
      "981/981 [==============================] - 166s 169ms/step - loss: 0.3572 - accuracy: 0.8978 - val_loss: 0.0820 - val_accuracy: 0.9754\n",
      "Epoch 6/15\n",
      "981/981 [==============================] - 164s 167ms/step - loss: 0.3239 - accuracy: 0.9090 - val_loss: 0.1095 - val_accuracy: 0.9676\n",
      "Epoch 7/15\n",
      "981/981 [==============================] - 138s 141ms/step - loss: 0.2937 - accuracy: 0.9170 - val_loss: 0.1404 - val_accuracy: 0.9643\n",
      "Epoch 8/15\n",
      "981/981 [==============================] - 135s 138ms/step - loss: 0.2812 - accuracy: 0.9239 - val_loss: 0.0636 - val_accuracy: 0.9801\n",
      "Epoch 9/15\n",
      "981/981 [==============================] - 137s 140ms/step - loss: 0.2843 - accuracy: 0.9238 - val_loss: 0.0652 - val_accuracy: 0.9824\n",
      "Epoch 10/15\n",
      "981/981 [==============================] - 133s 135ms/step - loss: 0.2488 - accuracy: 0.9299 - val_loss: 0.0613 - val_accuracy: 0.9834\n",
      "Epoch 11/15\n",
      "981/981 [==============================] - 137s 140ms/step - loss: 0.2438 - accuracy: 0.9309 - val_loss: 0.0647 - val_accuracy: 0.9801\n",
      "Epoch 12/15\n",
      "981/981 [==============================] - 135s 137ms/step - loss: 0.2232 - accuracy: 0.9370 - val_loss: 0.0634 - val_accuracy: 0.9811\n",
      "Epoch 13/15\n",
      "981/981 [==============================] - 136s 139ms/step - loss: 0.2530 - accuracy: 0.9322 - val_loss: 0.0843 - val_accuracy: 0.9754\n",
      "Epoch 14/15\n",
      "981/981 [==============================] - 135s 138ms/step - loss: 0.2289 - accuracy: 0.9386 - val_loss: 0.0613 - val_accuracy: 0.9834\n",
      "Epoch 15/15\n",
      "981/981 [==============================] - 134s 137ms/step - loss: 0.2360 - accuracy: 0.9373 - val_loss: 0.0351 - val_accuracy: 0.9892\n"
     ]
    }
   ],
   "source": [
    "epochs = 15\n",
    "history = model.fit(X_train, y_train, batch_size=32, epochs=epochs, validation_data=(X_test, y_test))"
   ]
  },
  {
   "cell_type": "markdown",
   "metadata": {},
   "source": [
    "# plotting graphs for accuracy "
   ]
  },
  {
   "cell_type": "code",
   "execution_count": 14,
   "metadata": {},
   "outputs": [
    {
     "data": {
      "image/png": "[encoded data removed]",
      "text/plain": [
       "<Figure size 432x288 with 1 Axes>"
      ]
     },
     "metadata": {
      "needs_background": "light"
     },
     "output_type": "display_data"
    }
   ],
   "source": [
    "plt.figure(0)\n",
    "plt.plot(history.history['accuracy'], label='training accuracy')\n",
    "plt.plot(history.history['val_accuracy'], label='val accuracy')\n",
    "plt.title('Accuracy')\n",
    "plt.xlabel('epochs')\n",
    "plt.ylabel('accuracy')\n",
    "plt.legend()\n",
    "plt.show()"
   ]
  },
  {
   "cell_type": "code",
   "execution_count": 15,
   "metadata": {},
   "outputs": [
    {
     "data": {
      "image/png": "[encoded data removed]",
      "text/plain": [
       "<Figure size 432x288 with 1 Axes>"
      ]
     },
     "metadata": {
      "needs_background": "light"
     },
     "output_type": "display_data"
    }
   ],
   "source": [
    "plt.figure(1)\n",
    "plt.plot(history.history['loss'], label='training loss')\n",
    "plt.plot(history.history['val_loss'], label='val loss')\n",
    "plt.title('Loss')\n",
    "plt.xlabel('epochs')\n",
    "plt.ylabel('loss')\n",
    "plt.legend()\n",
    "plt.show()"
   ]
  },
  {
   "cell_type": "markdown",
   "metadata": {},
   "source": [
    "# Testing accuracy on test dataset"
   ]
  },
  {
   "cell_type": "code",
   "execution_count": 16,
   "metadata": {},
   "outputs": [],
   "source": [
    "from sklearn.metrics import accuracy_score"
   ]
  },
  {
   "cell_type": "code",
   "execution_count": 17,
   "metadata": {},
   "outputs": [
    {
     "name": "stderr",
     "output_type": "stream",
     "text": [
      "C:\\ProgramData\\Anaconda3\\lib\\site-packages\\tensorflow\\python\\keras\\engine\\sequential.py:450: UserWarning: `model.predict_classes()` is deprecated and will be removed after 2021-01-01. Please use instead:* `np.argmax(model.predict(x), axis=-1)`,   if your model does multi-class classification   (e.g. if it uses a `softmax` last-layer activation).* `(model.predict(x) > 0.5).astype(\"int32\")`,   if your model does binary classification   (e.g. if it uses a `sigmoid` last-layer activation).\n",
      "  warnings.warn('`model.predict_classes()` is deprecated and '\n"
     ]
    }
   ],
   "source": [
    "y_test = pd.read_csv('Test.csv')\n",
    "\n",
    "labels = y_test[\"ClassId\"].values\n",
    "imgs = y_test[\"Path\"].values\n",
    "\n",
    "data=[]\n",
    "\n",
    "for img in imgs:\n",
    "    image = Image.open(img)\n",
    "    image = image.resize((30,30))\n",
    "    data.append(np.array(image))\n",
    "\n",
    "X_test=np.array(data)\n",
    "\n",
    "pred = model.predict_classes(X_test)\n"
   ]
  },
  {
   "cell_type": "markdown",
   "metadata": {},
   "source": [
    "# Accuracy with the test data"
   ]
  },
  {
   "cell_type": "code",
   "execution_count": 19,
   "metadata": {},
   "outputs": [
    {
     "name": "stdout",
     "output_type": "stream",
     "text": [
      "0.9555819477434679\n"
     ]
    }
   ],
   "source": [
    "from sklearn.metrics import accuracy_score\n",
    "print(accuracy_score(labels, pred))"
   ]
  },
  {
   "cell_type": "code",
   "execution_count": null,
   "metadata": {},
   "outputs": [],
   "source": []
  }
 ],
 "metadata": {
  "kernelspec": {
   "display_name": "Python 3",
   "language": "python",
   "name": "python3"
  },
  "language_info": {
   "codemirror_mode": {
    "name": "ipython",
    "version": 3
   },
   "file_extension": ".py",
   "mimetype": "text/x-python",
   "name": "python",
   "nbconvert_exporter": "python",
   "pygments_lexer": "ipython3",
   "version": "3.8.5"
  }
 },
 "nbformat": 4,
 "nbformat_minor": 4
}
